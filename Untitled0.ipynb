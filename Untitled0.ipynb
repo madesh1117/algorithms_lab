{
  "nbformat": 4,
  "nbformat_minor": 0,
  "metadata": {
    "colab": {
      "provenance": [],
      "authorship_tag": "ABX9TyO2YPBEm3dawpIQa5xByhWQ",
      "include_colab_link": true
    },
    "kernelspec": {
      "name": "python3",
      "display_name": "Python 3"
    },
    "language_info": {
      "name": "python"
    }
  },
  "cells": [
    {
      "cell_type": "markdown",
      "metadata": {
        "id": "view-in-github",
        "colab_type": "text"
      },
      "source": [
        "<a href=\"https://colab.research.google.com/github/madesh1117/algorithms_lab/blob/main/Untitled0.ipynb\" target=\"_parent\"><img src=\"https://colab.research.google.com/assets/colab-badge.svg\" alt=\"Open In Colab\"/></a>"
      ]
    },
    {
      "cell_type": "code",
      "execution_count": null,
      "metadata": {
        "id": "Up3GoTP33bXm"
      },
      "outputs": [],
      "source": [
        "# Python3 code to implement iterative Binary\n",
        "# Search.\n",
        "\n",
        "\n",
        "# It returns location of x in given array arr\n",
        "def binarySearch(arr, low, high, x):\n",
        "\n",
        "    while low <= high:\n",
        "\n",
        "        mid = low + (high - low) // 2\n",
        "\n",
        "        # Check if x is present at mid\n",
        "        if arr[mid] == x:\n",
        "            return mid\n",
        "\n",
        "        # If x is greater, ignore left half\n",
        "        elif arr[mid] < x:\n",
        "            low = mid + 1\n",
        "\n",
        "        # If x is smaller, ignore right half\n",
        "        else:\n",
        "            high = mid - 1\n",
        "\n",
        "    # If we reach here, then the element\n",
        "    # was not present\n",
        "    return -1\n",
        "\n",
        "\n",
        "# Driver Code\n",
        "if __name__ == '__main__':\n",
        "    arr = [2, 3, 4, 10, 40]\n",
        "    x = 10\n",
        "\n",
        "    # Function call\n",
        "    result = binarySearch(arr, 0, len(arr)-1, x)\n",
        "    if result != -1:\n",
        "        print(\"Element is present at index\", result)\n",
        "    else:\n",
        "        print(\"Element is not present in array\")\n"
      ]
    }
  ]
}